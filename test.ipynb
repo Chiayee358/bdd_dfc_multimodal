{
 "cells": [
  {
   "cell_type": "code",
   "execution_count": null,
   "metadata": {},
   "outputs": [],
   "source": [
    "import os\n",
    "import warnings\n",
    "import json\n",
    "import time\n",
    "import numpy as np\n",
    "import random\n",
    "import torch\n",
    "import argparse\n",
    "import src\n",
    "from pathlib import Path\n",
    "from sklearn.model_selection import train_test_split\n",
    "import segmentation_models_pytorch as smp\n",
    "\n"
   ]
  },
  {
   "cell_type": "code",
   "execution_count": 5,
   "metadata": {},
   "outputs": [],
   "source": [
    "\n",
    "import os\n",
    "import warnings\n",
    "import json\n",
    "import time\n",
    "import numpy as np\n",
    "from tqdm import tqdm\n",
    "import random\n",
    "import torch\n",
    "import rasterio\n",
    "import argparse\n",
    "import src\n",
    "from pathlib import Path\n",
    "from sklearn.model_selection import train_test_split\n",
    "import segmentation_models_pytorch as smp\n",
    "\n",
    "warnings.filterwarnings(\"ignore\")"
   ]
  },
  {
   "cell_type": "code",
   "execution_count": 6,
   "metadata": {},
   "outputs": [],
   "source": [
    "CLASSES = [0, 1, 2, 3]\n",
    "LR = 1e-4\n",
    "IMG_SIZE = 512\n",
    "BATCH_SIZE = 12\n",
    "NUM_EPOCHS = 150\n",
    "# CLS_WEIGHTS = [0.0048, 0.0302, 0.5828, 0.3822]\n",
    "# WEIGHTS_DIR = \"weights_unet\"\n"
   ]
  },
  {
   "cell_type": "markdown",
   "metadata": {},
   "source": [
    "CLASSWEIGHT"
   ]
  },
  {
   "cell_type": "code",
   "execution_count": 7,
   "metadata": {},
   "outputs": [
    {
     "name": "stderr",
     "output_type": "stream",
     "text": [
      "Counting Pixels: 549it [00:01, 422.21it/s]"
     ]
    },
    {
     "name": "stdout",
     "output_type": "stream",
     "text": [
      "Pixel Counts per Class: {0: np.int64(114027880), 1: np.int64(7918203), 2: np.int64(7411312), 3: np.int64(14559661)}\n",
      "Original Class Weights: {0: np.float64(1.2621216495474616), 1: np.float64(18.17546935838851), 2: np.float64(19.41856664515001), 3: np.float64(9.884643330637987)}\n",
      "Normalized Class Weights (Sum to 1): {0: np.float64(0.025894561108442234), 1: np.float64(0.37290050617875264), 2: np.float64(0.3984047502960499), 3: np.float64(0.20280018241675532)}\n"
     ]
    },
    {
     "name": "stderr",
     "output_type": "stream",
     "text": [
      "\n"
     ]
    }
   ],
   "source": [
    "TARGET_DIR = \"/home/chia/bdd_multimodal-main/BDD_dataset/train/target\"\n",
    "\n",
    "\n",
    "def compute_class_weights(target_dir, classes):\n",
    "    pixel_counts = {cls: 0 for cls in classes}  # Initialize pixel counts for each class\n",
    "    total_pixels = 0\n",
    "\n",
    "    # Iterate over all ground truth masks\n",
    "    for mask_path in tqdm(Path(target_dir).rglob(\"*.tif\"), desc=\"Counting Pixels\"):\n",
    "        with rasterio.open(mask_path) as src:\n",
    "            mask = src.read(1)  # Read the mask (1 channel)\n",
    "\n",
    "            # Count pixels for each class\n",
    "            for cls in classes:\n",
    "                pixel_counts[cls] += np.sum(mask == cls)\n",
    "            \n",
    "            total_pixels += mask.size  # Total pixels in the mask\n",
    "\n",
    "    # Compute weights\n",
    "    class_weights = {\n",
    "        cls: total_pixels / pixel_counts[cls] if pixel_counts[cls] > 0 else 0\n",
    "        for cls in classes\n",
    "    }\n",
    "\n",
    "    # Normalize weights to sum up to 1\n",
    "    total_weight = sum(class_weights.values())\n",
    "    normalized_weights = {\n",
    "        cls: weight / total_weight for cls, weight in class_weights.items()\n",
    "    }\n",
    "\n",
    "    return normalized_weights, class_weights, pixel_counts\n",
    "\n",
    "# Compute class weights\n",
    "normalized_weights, class_weights, pixel_counts = compute_class_weights(TARGET_DIR, CLASSES)\n",
    "\n",
    "# Output results\n",
    "print(\"Pixel Counts per Class:\", pixel_counts)\n",
    "print(\"Original Class Weights:\", class_weights)\n",
    "print(\"Normalized Class Weights (Sum to 1):\", normalized_weights)"
   ]
  }
 ],
 "metadata": {
  "kernelspec": {
   "display_name": "unet",
   "language": "python",
   "name": "python3"
  },
  "language_info": {
   "codemirror_mode": {
    "name": "ipython",
    "version": 3
   },
   "file_extension": ".py",
   "mimetype": "text/x-python",
   "name": "python",
   "nbconvert_exporter": "python",
   "pygments_lexer": "ipython3",
   "version": "3.13.0"
  }
 },
 "nbformat": 4,
 "nbformat_minor": 2
}
