{
 "cells": [
  {
   "cell_type": "code",
   "execution_count": 1,
   "metadata": {},
   "outputs": [],
   "source": [
    "import os\n",
    "import shutil\n",
    "import random\n",
    "\n",
    "# # Paths\n",
    "# # base_dir = \"/home/chia/bdd_multimodal-main/Pre_opt_post_SAR\"\n",
    "# base_dir = \"/home/chia/bdd_multimodal-main/Pre_GANSAR_post_SAR\"\n",
    "base_dir = \"/home/chia/bdd_multimodal-main/pre_SAR_gan_whole\"\n",
    "output_dir = \"/home/chia/bdd_multimodal-main/BDD_dataset_GAN-whole\"\n",
    "\n",
    "# Define splits\n",
    "train_ratio = 0.7\n",
    "val_ratio = 0.15\n",
    "test_ratio = 0.15"
   ]
  },
  {
   "cell_type": "code",
   "execution_count": 14,
   "metadata": {},
   "outputs": [],
   "source": [
    "# # Ensure output directories exist\n",
    "# for split in [\"train\", \"val\", \"test\"]:\n",
    "#     for category in [\"pre_disaster\", \"post_disaster\",\"target\"]:\n",
    "#         os.makedirs(os.path.join(output_dir, split, category), exist_ok=True)\n",
    "\n",
    "# # List all files in the mixed Images & Target directory\n",
    "# all_files = sorted(os.listdir(os.path.join(base_dir, \"images\")))  # All images are in one folder\n",
    "# target_files = sorted(os.listdir(os.path.join(base_dir, \"target\")))  # All masks are in one folder"
   ]
  },
  {
   "cell_type": "code",
   "execution_count": 3,
   "metadata": {},
   "outputs": [],
   "source": [
    "\n",
    "# Ensure output directories exist\n",
    "for split in [\"train\", \"val\", \"test\"]:\n",
    "    for category in [\"pre_disaster\", \"post_disaster\",\"target\"]:\n",
    "                \n",
    "        os.makedirs(os.path.join(output_dir, split, category), exist_ok=True)\n",
    "\n",
    "# List all files in the mixed Images & Target directory\n",
    "all_files = sorted(os.listdir(os.path.join(base_dir, \"images\")))  # All images are in one folder\n",
    "target_files = sorted(os.listdir(os.path.join(base_dir, \"target\")))  # All masks are in one folder\n",
    "\n",
    "# Separate images based on filename patterns\n",
    "pre_disaster_sar_files = [f for f in all_files if \"_pre_disaster_sar\" in f]\n",
    "pre_disaster_optical_files = [f for f in all_files if \"_pre_disaster\" in f and \"_sar\" not in f]  # Exclude SAR\n",
    "post_disaster_sar_files = [f for f in all_files if \"_post_disaster_sar\" in f]\n",
    "building_damage_masks = [f for f in target_files if \"_building_damage\" in f]  # Assuming these represent damage\n",
    "\n",
    "\n",
    "# Ensure dataset consistency\n",
    "assert len(pre_disaster_sar_files) == len(pre_disaster_optical_files) == len(post_disaster_sar_files) == len(building_damage_masks), \\\n",
    "    \"File mismatch! Some disaster types have missing images.\""
   ]
  },
  {
   "cell_type": "code",
   "execution_count": 4,
   "metadata": {},
   "outputs": [],
   "source": [
    "\n",
    "\n",
    "# Shuffle the dataset for random splitting\n",
    "data_pairs = list(zip(pre_disaster_sar_files, pre_disaster_optical_files, post_disaster_sar_files, building_damage_masks))\n",
    "random.shuffle(data_pairs)\n",
    "\n",
    "# Compute split indices\n",
    "total_files = len(data_pairs)\n",
    "train_split = int(total_files * train_ratio)\n",
    "val_split = int(total_files * (train_ratio + val_ratio))\n",
    "\n",
    "\n",
    "train_files = data_pairs[:train_split]\n",
    "val_files = data_pairs[train_split:val_split]\n",
    "test_files = data_pairs[val_split:]"
   ]
  },
  {
   "cell_type": "code",
   "execution_count": 5,
   "metadata": {},
   "outputs": [
    {
     "name": "stdout",
     "output_type": "stream",
     "text": [
      "Dataset successfully sorted and split into train, val, and test sets!\n"
     ]
    }
   ],
   "source": [
    "\n",
    "\n",
    "# Function to move files into appropriate folders\n",
    "def move_files(file_set, split):\n",
    "    for pre_sar, pre_optical, post_sar, damage_mask in file_set:\n",
    "        shutil.move(os.path.join(base_dir, \"images\", pre_sar), os.path.join(output_dir, split, \"pre_disaster\", pre_sar))\n",
    "        shutil.move(os.path.join(base_dir, \"images\", pre_optical), os.path.join(output_dir, split, \"pre_disaster\", pre_optical))\n",
    "        shutil.move(os.path.join(base_dir, \"images\", post_sar), os.path.join(output_dir, split, \"post_disaster\", post_sar))\n",
    "        shutil.move(os.path.join(base_dir, \"target\", damage_mask), os.path.join(output_dir, split, \"target\", damage_mask))\n",
    "\n",
    "# Move files to respective folders\n",
    "move_files(train_files, \"train\")\n",
    "move_files(val_files, \"val\")\n",
    "move_files(test_files, \"test\")\n",
    "\n",
    "print(\"Dataset successfully sorted and split into train, val, and test sets!\")\n"
   ]
  }
 ],
 "metadata": {
  "kernelspec": {
   "display_name": "unet",
   "language": "python",
   "name": "python3"
  },
  "language_info": {
   "codemirror_mode": {
    "name": "ipython",
    "version": 3
   },
   "file_extension": ".py",
   "mimetype": "text/x-python",
   "name": "python",
   "nbconvert_exporter": "python",
   "pygments_lexer": "ipython3",
   "version": "3.13.0"
  }
 },
 "nbformat": 4,
 "nbformat_minor": 2
}
